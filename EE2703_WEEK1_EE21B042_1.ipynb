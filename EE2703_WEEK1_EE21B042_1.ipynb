{
 "cells": [
  {
   "cell_type": "markdown",
   "id": "bc66b3b5-035d-4397-af1d-5c64e180632f",
   "metadata": {
    "tags": []
   },
   "source": [
    "# Document metadata\n",
    "\n",
    "> *Problem statement: modify this document so that the author name reflects your name and roll number.  Explain the changes you needed to make here.  If you use other approaches such as LaTeX to generate the PDF, explain the differences between the notebook approach and what you have used.*"
   ]
  },
  {
   "cell_type": "markdown",
   "id": "deb6aeef-bf42-4316-ba42-6ae1a38d91a4",
   "metadata": {},
   "source": [
    "> In Notebook Metadata, we can change the author name by using the syntax\n",
    ">\n",
    ">> \"authors\": [ {\"name\": \"Dinesh Yajjala < EE21B042 >\"} ]"
   ]
  },
  {
   "cell_type": "markdown",
   "id": "47576f05-90e1-4c8b-b75b-13ebffe95171",
   "metadata": {},
   "source": [
    "# Basic Data Types\n",
    "\n",
    "Here we have a series of small problems involving various basic data types in Python.  You are required to complete the code where required, and give *brief* explanations of your answers.  Remember that the documentation and explanation is as important as the answer.\n",
    "\n",
    "For each of the following cells, first execute them, and then give a brief explanation of why the answer comes out to be the way it does.  If there is an error during execution of the cell, explain how you fixed it.  **Add a new cell of type Markdown with the explanation** after the corresponding cell.  If you are using plain Python, add suitable comments after each line and explain this in the documentation (clearly you would be better off using Notebooks here)."
   ]
  },
  {
   "cell_type": "markdown",
   "id": "90d271f4",
   "metadata": {},
   "source": [
    "## Numerical types"
   ]
  },
  {
   "cell_type": "code",
   "execution_count": 1,
   "id": "1e2d2e6e",
   "metadata": {},
   "outputs": [
    {
     "name": "stdout",
     "output_type": "stream",
     "text": [
      "2.4\n"
     ]
    }
   ],
   "source": [
    "print(12 / 5)"
   ]
  },
  {
   "cell_type": "markdown",
   "id": "e80cab1b-3c30-44b1-bd2c-e06323d15f8f",
   "metadata": {},
   "source": [
    "- This performs the **normal division** and gives the result in **float** type, with precision upto **15** decimal places. Like 22/7 = 3.142857142857143"
   ]
  },
  {
   "cell_type": "code",
   "execution_count": 8,
   "id": "1b587eb7",
   "metadata": {},
   "outputs": [
    {
     "name": "stdout",
     "output_type": "stream",
     "text": [
      "2\n"
     ]
    }
   ],
   "source": [
    "print(12 // 5)"
   ]
  },
  {
   "cell_type": "markdown",
   "id": "3c55ce47-fd3e-4511-9f9d-f97d0f1df912",
   "metadata": {},
   "source": [
    "- This performs the **Floor Division** and gives the result in **int** type. The resultant integer will be greatest integer lower than or equal to the normal division result. "
   ]
  },
  {
   "cell_type": "code",
   "execution_count": 9,
   "id": "97a6c535",
   "metadata": {},
   "outputs": [
    {
     "name": "stdout",
     "output_type": "stream",
     "text": [
      "10 10 1.0\n"
     ]
    }
   ],
   "source": [
    "a=b=10\n",
    "print(a,b,a/b)"
   ]
  },
  {
   "cell_type": "markdown",
   "id": "cef557b3-4e15-4374-8155-fbea201bd7db",
   "metadata": {},
   "source": [
    "- This is code creates the variable '**a**' and '**b**' and sets them to integer \"**10**\" and prints the values of \"**a**\" , \"**b**\" in int type and the normal division \"**a/b**\" in float type. "
   ]
  },
  {
   "cell_type": "markdown",
   "id": "af329d1c",
   "metadata": {},
   "source": [
    "## Strings and related operations"
   ]
  },
  {
   "cell_type": "code",
   "execution_count": 10,
   "id": "ba913542",
   "metadata": {},
   "outputs": [
    {
     "name": "stdout",
     "output_type": "stream",
     "text": [
      "Hello \n"
     ]
    }
   ],
   "source": [
    "a = \"Hello \"\n",
    "print(a)"
   ]
  },
  {
   "cell_type": "markdown",
   "id": "26c801e6-63c4-437c-9ad9-482adb5a5454",
   "metadata": {},
   "source": [
    "- This code creates a variable \"**a**\" and assign it to the string \"Hello \" and then prints it."
   ]
  },
  {
   "cell_type": "code",
   "execution_count": 11,
   "id": "ad0e046b",
   "metadata": {},
   "outputs": [
    {
     "ename": "TypeError",
     "evalue": "can only concatenate str (not \"int\") to str",
     "output_type": "error",
     "traceback": [
      "\u001b[1;31m---------------------------------------------------------------------------\u001b[0m",
      "\u001b[1;31mTypeError\u001b[0m                                 Traceback (most recent call last)",
      "Cell \u001b[1;32mIn[11], line 1\u001b[0m\n\u001b[1;32m----> 1\u001b[0m \u001b[39mprint\u001b[39m(a\u001b[39m+\u001b[39;49mb)  \u001b[39m# Output should contain \"Hello 10\" \u001b[39;00m\n",
      "\u001b[1;31mTypeError\u001b[0m: can only concatenate str (not \"int\") to str"
     ]
    }
   ],
   "source": [
    "print(a+b)  # Output should contain \"Hello 10\" "
   ]
  },
  {
   "cell_type": "markdown",
   "id": "1ed6cdff-d9cd-4663-9a32-6a6683eec0a1",
   "metadata": {},
   "source": [
    "### Correct code"
   ]
  },
  {
   "cell_type": "code",
   "execution_count": null,
   "id": "f3c61b09-d449-48d3-a34f-f40dde1933f6",
   "metadata": {},
   "outputs": [
    {
     "name": "stdout",
     "output_type": "stream",
     "text": [
      "Hello 10\n"
     ]
    }
   ],
   "source": [
    "print(a+str(b))"
   ]
  },
  {
   "cell_type": "markdown",
   "id": "782f97a0-827b-4ffc-b776-b9ce0cd4424e",
   "metadata": {},
   "source": [
    "- Since \"**a**\" is a String and \"**b**\" is an integer, we cannot concate an integer with a string. So, I use **type casting** to convert \"**b**\" from int to string by using **str()** built-in function."
   ]
  },
  {
   "cell_type": "code",
   "execution_count": 1,
   "id": "e2793fa4",
   "metadata": {},
   "outputs": [
    {
     "name": "stdout",
     "output_type": "stream",
     "text": [
      "----------------------------------------\n",
      "                                      42\n",
      "*-*-*-*-*-*-*-*-*-*-*-*-*-*-*-*-*-*-*-*-"
     ]
    }
   ],
   "source": [
    "# Print out a line of 40 '-' signs (to look like one long line)\n",
    "# Then print the number 42 so that it is right justified to the end of \n",
    "# the above line\n",
    "# Then print one more line of length 40, but with the pattern '*-*-*-' \n",
    "for i in range (40):\n",
    "    print(\"-\",end='')\n",
    "print(f\"\\n{42:>40}\")\n",
    "for i in range (20):\n",
    "    print(\"*-\",end='')"
   ]
  },
  {
   "cell_type": "markdown",
   "id": "f1c0e351-0842-478b-a640-90fa01195335",
   "metadata": {},
   "source": [
    "- I used \"for\" loop to print 40 \"**-**\" and I used **end=''** in the print function, so it won't generate a newline character at the end of each \"**-**\". After the loop, I printed \"**42**\" in a newline, giving a right justification of 40. Then printed the sequence \"*-\" 20 times making it a length of 40."
   ]
  },
  {
   "cell_type": "code",
   "execution_count": null,
   "id": "9b4e1f03",
   "metadata": {},
   "outputs": [
    {
     "name": "stdout",
     "output_type": "stream",
     "text": [
      "The variable 'a' has the value Hello  and 'b' has the value         10\n"
     ]
    }
   ],
   "source": [
    "print(f\"The variable 'a' has the value {a} and 'b' has the value {b:>10}\")"
   ]
  },
  {
   "cell_type": "markdown",
   "id": "408bf0ec-633e-46d4-8575-353f59a6205c",
   "metadata": {},
   "source": [
    "- It is a **f-string** (formatting string). It allows insertion of variables or expressions into the string. Here, the values of variables \"**a**\" and \"**b**\" were being inserted in the string and printing it. and **{b:>10}** makes the variable \"**b**\" right justified to 10 spaces."
   ]
  },
  {
   "cell_type": "code",
   "execution_count": null,
   "id": "9d746f81",
   "metadata": {},
   "outputs": [
    {
     "name": "stdout",
     "output_type": "stream",
     "text": [
      "EE2703                     Applied Programming Lab\n",
      "EE2003                       Computer Organization\n",
      "EE5131                           Digital IC Design\n"
     ]
    }
   ],
   "source": [
    "# Create a list of dictionaries where each entry in the list has two keys:\n",
    "# - id: this will be the ID number of a course, for example 'EE2703'\n",
    "# - name: this will be the name, for example 'Applied Programming Lab'\n",
    "# Add 3 entries:\n",
    "# EE2703 -> Applied Programming Lab\n",
    "# EE2003 -> Computer Organization\n",
    "# EE5311 -> Digital IC Design\n",
    "# Then print out the entries in a neatly formatted table where the \n",
    "# ID number is left justified\n",
    "# to 10 spaces and the name is right justified to 40 spaces.  \n",
    "# That is it should look like:\n",
    "\n",
    "# EE2703                     Applied Programming Lab\n",
    "# EE2003                       Computer Organization\n",
    "# EE5131                           Digital IC Design\n",
    "Dict=[{\"id\":\"EE2703\",\"name\":\"Applied Programming Lab\"},{\"id\":\"EE2003\",\"name\":\"Computer Organization\"},{\"id\":\"EE5131\",\"name\":\"Digital IC Design\"}]\n",
    "for i in Dict:\n",
    "    print(f\"{i['id']:<10}{i['name']:>40}\")"
   ]
  },
  {
   "cell_type": "markdown",
   "id": "9eee7310-a145-45fd-9a3b-a3a5e21131b6",
   "metadata": {},
   "source": [
    "- I created a list of three dictionaries with two keys named \"**id**\" and \"**name**\". Then \"**i**\" go through each dictionary and print **id** of that dictionary left justified to 10 spaces and **name** of that dictionary right justified to 40 spaces."
   ]
  },
  {
   "cell_type": "markdown",
   "id": "959169d6",
   "metadata": {},
   "source": [
    "# Functions for general manipulation"
   ]
  },
  {
   "cell_type": "code",
   "execution_count": 4,
   "id": "fb799573",
   "metadata": {},
   "outputs": [
    {
     "name": "stdin",
     "output_type": "stream",
     "text": [
      "Enter the Number: -20\n",
      "number of bits: 8\n"
     ]
    },
    {
     "name": "stdout",
     "output_type": "stream",
     "text": [
      "11101100\n"
     ]
    }
   ],
   "source": [
    "# Write a function with name 'twosc' that will take a single integer \n",
    "# as input, and print out the binary representation of the number \n",
    "# as output.  The function should take one other optional parameter N \n",
    "# which represents the number of bits.  The final result should always \n",
    "# contain N characters as output (either 0 or 1) and should use \n",
    "# two's complement to represent the number if it is negative.\n",
    "# Examples:\n",
    "# twosc(10): 0000000000001010\n",
    "# twosc(-10): 1111111111110110\n",
    "# twosc(-20, 8): 11101100\n",
    "#\n",
    "# Use only functions from the Python standard library to do this.\n",
    "def twosc(x, N):\n",
    "    if x>=0:\n",
    "        b=''\n",
    "        for i in range (1,N+1):\n",
    "            if x%2==1:\n",
    "                b=\"1\"+b\n",
    "            else:\n",
    "                b=\"0\"+b\n",
    "            x=x//2\n",
    "        print(b)\n",
    "        \n",
    "    else:\n",
    "        twosc(2**N + x,N)\n",
    "    \n",
    "n=int(input(\"Enter the Number:\"))\n",
    "i=int(input(\"number of bits:\")) \n",
    "twosc(n,i)\n",
    "# twosc(10,16)\n",
    "# twosc(-10,16)\n",
    "# twosc(-20,8)"
   ]
  },
  {
   "cell_type": "markdown",
   "id": "219401b3-a8c4-4790-8b1f-44539ec6f43f",
   "metadata": {},
   "source": [
    "- \"I used some standard python libraries like **bin()**, **zfill()**, and **replace()** in this code. The \"**bin(x)**\" function gets the binary value of the integer '**x**' and for negative number if we use \"**bin()**\" function, it would just add a \"**-**\" sign infront of the binary of modulus of '**x**'. So, To print the 2's complement of the binary value for negative numbers, I just print **bin(2^n + x)** binary value, where '**n**' is number of bits to print. I did that because we know 2's complement is just adding binary value of **2^n** to the binary value of modulus \"**x**\". Since, \"**bin()**\" function returns a string value with \"**0b**\" infront of the binary value, I used \"**replace()**\" function to clear \"**0b**\" from the output of \"**bin()**\" funtion. I used \"**zfill(N)**\" function to fill the string value produced after both \"**bin()**\" and \"**replace()**\" functions with leading zeroes, until the string gets \"**N**\" characters."
   ]
  },
  {
   "cell_type": "markdown",
   "id": "d9845f63",
   "metadata": {},
   "source": [
    "# List comprehensions and decorators"
   ]
  },
  {
   "cell_type": "code",
   "execution_count": 2,
   "id": "9f573a70-d7f0-4496-926f-34b7cff5492f",
   "metadata": {},
   "outputs": [
    {
     "data": {
      "text/plain": [
       "[0, 4, 16, 36, 64]"
      ]
     },
     "execution_count": 2,
     "metadata": {},
     "output_type": "execute_result"
    }
   ],
   "source": [
    "# Explain the output you see below\n",
    "[x*x for x in range(10) if x%2 == 0]"
   ]
  },
  {
   "cell_type": "markdown",
   "id": "a4f8d710-46a6-4f4e-bf3f-6b4e180b408e",
   "metadata": {},
   "source": [
    "- This creates a list of **x*x(x^2)** where **x** ranging from 0 to 9 and satisfies the condition **x%2**(x reminder 2) =0 i.e, **x** should be even. Since **'0','2'.'4','6','8'** satisfies the above condition, it created a list of these number's squares. There are **[0, 4, 16, 36, 64]**."
   ]
  },
  {
   "cell_type": "code",
   "execution_count": null,
   "id": "d34ddb81-5caf-40a7-ac1f-43ce08d64220",
   "metadata": {},
   "outputs": [
    {
     "data": {
      "text/plain": [
       "[1, 2, 3, 4, 5, 6, 7, 8, 9]"
      ]
     },
     "execution_count": 1,
     "metadata": {},
     "output_type": "execute_result"
    }
   ],
   "source": [
    "# Explain the output you see below\n",
    "matrix = [[1,2,3], [4,5,6], [7,8,9]]\n",
    "[v for row in matrix for v in row]"
   ]
  },
  {
   "cell_type": "markdown",
   "id": "74fb7f09-da8a-4dc0-a291-00368ae55feb",
   "metadata": {},
   "source": [
    "- Here, '**matrix**' is a 2D list. The variable '**row**' iterates over the sublists of the '**matrix**' and the variable '**v**' iterates over the list's elements of the '**row**'. By these two '**for**' loops, it creates a list of all elements of the sublists of '**matrix**' 2D list into a 1D list."
   ]
  },
  {
   "cell_type": "code",
   "execution_count": 1,
   "id": "e7349601-a068-4d91-bc0f-bcc755c4b215",
   "metadata": {},
   "outputs": [
    {
     "name": "stdout",
     "output_type": "stream",
     "text": [
      "[2, 3, 5, 7, 11, 13, 17, 19, 23, 29, 31, 37, 41, 43, 47, 53, 59, 61, 67, 71, 73, 79, 83, 89, 97]\n"
     ]
    }
   ],
   "source": [
    "# Define a function `is_prime(x)` that will return True if a number \n",
    "# is prime, or False otherwise.\n",
    "# Use it to write a one-line statement that will print all \n",
    "# prime numbers between 1 and 100\n",
    "def is_prime(x):\n",
    "    if x<=1:\n",
    "        return False\n",
    "    else:\n",
    "        for i in range (2,int(x**0.5) +1):\n",
    "            if x%i ==0:\n",
    "                return False\n",
    "        return True\n",
    "\n",
    "print([x for x in range (1,101) if is_prime(x)])"
   ]
  },
  {
   "cell_type": "markdown",
   "id": "4f3ca918-0a9c-4689-9744-073ed6638b2c",
   "metadata": {},
   "source": [
    "- Prime number is a number that gets divided only by '**1**' and **itself**. For simplicity, I returned the value \"**False**\" for numbers less than 2 and for numbers greater than 1, I ran a '**for**' loop from '2' and the **square root of that number**, to find if there is any number that can perfectly divide a given number or not. If it is perfectly divided, function returns **False**. Otherwise, returns **True**. Then created a list of numbers between '1' and '100' with a condition, that the number should be prime. The condition was getting verified using the above created function \"is_prime(x)\". Then printed the list using \"print()\" function."
   ]
  },
  {
   "cell_type": "code",
   "execution_count": null,
   "id": "3dd1087b-f384-41a2-88d8-6788336d2291",
   "metadata": {},
   "outputs": [
    {
     "name": "stdout",
     "output_type": "stream",
     "text": [
      "Hello happy flappy world\n"
     ]
    }
   ],
   "source": [
    "# Explain the output below\n",
    "def f1(x):\n",
    "    return \"happy \" + x \n",
    "def f2(f):\n",
    "    def wrapper(*args, **kwargs):\n",
    "        return \"Hello \" + f(*args, **kwargs) + \" world\"\n",
    "    return wrapper\n",
    "f3 = f2(f1)\n",
    "print(f3(\"flappy\"))"
   ]
  },
  {
   "cell_type": "markdown",
   "id": "ca3f3381-9c91-4684-888f-c1712de11e63",
   "metadata": {},
   "source": [
    "- There are three functions **('f1', 'f2', 'wrapper')** in the code. Function '**f1**' takes an argument '**x**' and returns the string \"happy \" concatenated with string value of 'x'. In function '**wrapper**' you gave \"***args**\" and \"****kwargs**\" as arguments. This allows the user to give multiple arguments to the function. When we pass a variable number of non-keyword arguments into the function, these make a **tuple** named after \"**args**\".  Whereas when we pass a variable number of keyword arguments into the function, these make a **dictionary** named after \"**kwargs**\". Function \"**wrapper**\" returns the string concatenating the \"Hello \", string returned by function \"**f**\" and \"world\". Variable '**f3**' refers to the function \"**wrapper**\" returned by \"**f2(f1)**\". Thus, we get string value \"**Hello happy flappy world**\" as output."
   ]
  },
  {
   "cell_type": "code",
   "execution_count": null,
   "id": "ede870a7-6564-4930-9ff1-818f075c3e43",
   "metadata": {},
   "outputs": [
    {
     "name": "stdout",
     "output_type": "stream",
     "text": [
      "Hello nappy flappy world\n"
     ]
    }
   ],
   "source": [
    "# Explain the output below\n",
    "@f2\n",
    "def f4(x):\n",
    "    return \"nappy \" + x\n",
    "\n",
    "print(f4(\"flappy\"))"
   ]
  },
  {
   "cell_type": "markdown",
   "id": "868626ae-37bf-4f3b-b02c-29727a454ae5",
   "metadata": {},
   "source": [
    "- \"**@f2**\" is a **decorator**, it is a way to apply a function to another function to modify its behaviour. Here, it is same as \" **f4 = f2(f4)** \". Now, it is similar to above code but very efficient in coding it."
   ]
  },
  {
   "cell_type": "markdown",
   "id": "de144cc1-a06a-4e96-8017-7887296dddc0",
   "metadata": {},
   "source": [
    "# File IO"
   ]
  },
  {
   "cell_type": "code",
   "execution_count": 20,
   "id": "09e62f52-fec6-4026-a4d8-ca4b87b19732",
   "metadata": {},
   "outputs": [
    {
     "name": "stdin",
     "output_type": "stream",
     "text": [
      "Enter a number:  100\n"
     ]
    }
   ],
   "source": [
    "# Write a function to generate prime numbers from 1 to N (input)\n",
    "# and write them to a file (second argument).  You can reuse the prime\n",
    "# detection function written earlier.\n",
    "def is_prime(x):\n",
    "    if x<=1:\n",
    "        return False\n",
    "    else:\n",
    "        for i in range (2,int(x**0.5) +1):\n",
    "            if x%i ==0:\n",
    "                return False\n",
    "        return True\n",
    "\n",
    "def write_primes(N, filename):\n",
    "    f= open(filename, \"w\")\n",
    "    for i in range (2,N+1):\n",
    "        if is_prime(i):\n",
    "            f.write(str(i) + '\\n')\n",
    "    f.close()\n",
    "    \n",
    "N=int(input(\"Enter a number: \"))\n",
    "filename = \"prime\"\n",
    "write_primes(N, filename)"
   ]
  },
  {
   "cell_type": "markdown",
   "id": "84e297fc-c9fe-4988-9d69-cd2d02a06dd2",
   "metadata": {},
   "source": [
    "- I just used the \"**is_prime**\" function i used before. to check whether a given integer is a prime or not. And in function \"**write_primes**\", I created a text file using \"open\" function and I gave **write only** mode by writing **\"w\"** in \"**open**\" function. Then, for a given number, I write all the prime numbers less than or equal to the given number in the text file(Here,the name of the file is \"prime\"). Then I closed the file using \"close()\" function."
   ]
  },
  {
   "cell_type": "markdown",
   "id": "9b2de5cb-13c3-4804-9576-e7bb6fd3a371",
   "metadata": {},
   "source": [
    "# Exceptions"
   ]
  },
  {
   "cell_type": "code",
   "execution_count": 17,
   "id": "eec5626e-6e92-45bf-b307-2459de0f44e1",
   "metadata": {},
   "outputs": [
    {
     "name": "stdin",
     "output_type": "stream",
     "text": [
      "Enter a number:  abcd\n"
     ]
    },
    {
     "name": "stdout",
     "output_type": "stream",
     "text": [
      "Input must be a valid integer\n"
     ]
    }
   ],
   "source": [
    "# Write a function that takes in a number as input, and prints out \n",
    "# whether it is a prime or not.  If the input is not an integer,\n",
    "# print an appropriate error message.  Use exceptions to detect problems.\n",
    "def check_prime(x):\n",
    "    try:\n",
    "        x = int(x)\n",
    "        if x <= 1:\n",
    "            print(f\"{x} is not a prime number\")\n",
    "            return\n",
    "        for i in range(2, int(x**0.5)+1):\n",
    "            if x % i == 0:\n",
    "                print(f\"{x} is not a prime number\")\n",
    "                return\n",
    "        print(f\"{x} is a prime number\")\n",
    "    except :\n",
    "        print(\"Input must be a valid integer\")\n",
    "x = input(\"Enter a number: \")\n",
    "check_prime(x)"
   ]
  },
  {
   "cell_type": "markdown",
   "id": "b47263c5-192a-4ea0-8fd9-7f528bd970a6",
   "metadata": {},
   "source": [
    "- To check  whether an integer a prime or not, I used a similar code as before. But to detect an invalid input and some other Errors occurings, I used **try** and **expect** statements. After giving an input, it runs the code in **try** statement first and if any error occurs at any line in the statement, it stops executing **try** statement code and executes the code in **except** statement. Since, the only error as per the code which can occur was an **ValueError**, I printed an appropriate message for that. There is no possibility for errors like **IndentationError**, **SyntaxError**, etc.,"
   ]
  },
  {
   "cell_type": "markdown",
   "id": "6975db71-e3db-466c-abbf-ddc026c5054a",
   "metadata": {},
   "source": [
    "# Process of Running the files\n",
    "The Python Notebook can be easily accessed on any computer that has a **Jupyter Notebook** server installed and configured. It can also run in different platforms. That includes\n",
    "\n",
    "1. [Google Colab](https://colab.research.google.com/)\n",
    "\n",
    "2. Azure Notebooks\n",
    "\n",
    "3. Amazon Web Serivces\n",
    "\n",
    "4. Microsoft Azure\n",
    "\n",
    "- I prefer to open the Notebook on the [lab server](https://jup.dev.iitm.ac.in/), It is easy to run and manipulate the code in this platform. I used the same platform to convert the notebook into PDF format. "
   ]
  }
 ],
 "metadata": {
  "authors": [
   {
    "name": "Dinesh Yajjala < EE21B042 >"
   }
  ],
  "kernelspec": {
   "display_name": "Python 3 (ipykernel)",
   "language": "python",
   "name": "python3"
  },
  "language_info": {
   "codemirror_mode": {
    "name": "ipython",
    "version": 3
   },
   "file_extension": ".py",
   "mimetype": "text/x-python",
   "name": "python",
   "nbconvert_exporter": "python",
   "pygments_lexer": "ipython3",
   "version": "3.9.2"
  },
  "title": "EE2703 - Week 1",
  "toc-autonumbering": true,
  "vscode": {
   "interpreter": {
    "hash": "8739e4b358eae07c3281d9c8f6f7d7251326c4bd9bea69a29571a5fa3f04719e"
   }
  }
 },
 "nbformat": 4,
 "nbformat_minor": 5
}
