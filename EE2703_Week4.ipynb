{
 "cells": [
  {
   "cell_type": "markdown",
   "id": "6a452f58-541f-4d90-b47e-b28f104f07f0",
   "metadata": {},
   "source": [
    "## Nets in the Toplogical order"
   ]
  },
  {
   "cell_type": "code",
   "execution_count": 31,
   "id": "435b2abd-e435-4926-a9ed-110ddd1f4a25",
   "metadata": {},
   "outputs": [
    {
     "name": "stdin",
     "output_type": "stream",
     "text": [
      "Enter the netlist file: c17.net\n"
     ]
    },
    {
     "name": "stdout",
     "output_type": "stream",
     "text": [
      "Nodes in topological order ['N2', 'N7', 'N1', 'N3', 'N6', 'n_0', 'n_1', 'n_3', 'n_2', 'N22', 'N23']\n"
     ]
    }
   ],
   "source": [
    "import networkx as nx\n",
    "g=nx.DiGraph()\n",
    "filename=input(\"Enter the netlist file:\")\n",
    "l=[]\n",
    "gate={}\n",
    "with open(filename) as f:\n",
    "    lines=f.readlines()\n",
    "    for line in lines:\n",
    "        p=line.split()\n",
    "        if p[1]!=\"inv\" and p[1]!=\"buf\":\n",
    "            gate.update({p[4]:p[1]})\n",
    "            l.append((p[2],p[4]))\n",
    "            l.append((p[3],p[4]))\n",
    "        elif p[1]==\"inv\" or p[1]==\"buf\":\n",
    "            gate.update({p[3]:p[1]})\n",
    "            l.append((p[2],p[3]))\n",
    "\n",
    "g.add_edges_from(l)\n",
    "nx.set_node_attributes(g,gate,name=\"gateType\")\n",
    "a=g.nodes(data=True)\n",
    "for item in a:\n",
    "    if not item[1].get('gateType'):\n",
    "        item[1]['gateType'] = 'PI'\n",
    "# print(a)\n",
    "nl = list(nx.topological_sort(g))\n",
    "print('Nodes in topological order',nl)"
   ]
  },
  {
   "cell_type": "markdown",
   "id": "2c5c3a4d-fcf6-4a47-9494-caa6e4b5d538",
   "metadata": {},
   "source": [
    "## Topologically ordered evaluation"
   ]
  },
  {
   "cell_type": "code",
   "execution_count": 32,
   "id": "fc5e066b-9353-42b6-81d9-979586821219",
   "metadata": {},
   "outputs": [
    {
     "name": "stdin",
     "output_type": "stream",
     "text": [
      "Enter the inputs file: c17.inputs\n"
     ]
    },
    {
     "name": "stdout",
     "output_type": "stream",
     "text": [
      "N1  N2  N22  N23  N3  N6  N7  n_0  n_1  n_2  n_3  \n",
      "\n",
      "#1\n",
      "0   1   1    1    0   0   0   1    1    1    0    \n",
      "\n",
      "#2\n",
      "0   0   0    0    1   0   0   1    1    1    1    \n",
      "\n",
      "#3\n",
      "1   0   0    0    0   0   0   1    1    1    1    \n",
      "\n",
      "#4\n",
      "0   0   0    0    1   1   1   1    0    1    1    \n",
      "\n",
      "#5\n",
      "1   1   1    0    1   1   1   0    0    1    1    \n",
      "\n",
      "#6\n",
      "1   1   1    1    1   0   0   0    1    1    0    \n",
      "\n",
      "#7\n",
      "1   1   1    0    1   1   0   0    0    1    1    \n",
      "\n",
      "#8\n",
      "1   1   1    1    0   0   0   1    1    1    0    \n",
      "\n",
      "#9\n",
      "0   1   1    1    1   0   1   1    1    0    0    \n",
      "\n",
      "#10\n",
      "0   0   0    0    1   1   0   1    0    1    1    \n",
      "\n"
     ]
    }
   ],
   "source": [
    "def topo_evaluation(input_vectors,net_states,g):\n",
    "    for iv in input_vectors:\n",
    "        for i, node in enumerate(order):\n",
    "            net_states[node] = iv[i]\n",
    "\n",
    "        for node in nl:\n",
    "            if g.nodes[node]['gateType'] == \"PI\" or net_states[node] is not None:\n",
    "                continue\n",
    "            input_nodes = list(g.predecessors(node))\n",
    "            inputs=[net_states[n] for n in input_nodes]\n",
    "\n",
    "            gate_type = g.nodes[node]['gateType']\n",
    "            if gate_type == 'and2':\n",
    "                net_states[node] = int(all(inputs))\n",
    "            elif gate_type == 'nand2':\n",
    "                net_states[node] = int(not all(inputs))\n",
    "            elif gate_type == 'or2':\n",
    "                net_states[node] = int(any(inputs))\n",
    "            elif gate_type == 'nor2':\n",
    "                net_states[node] = int(not any(inputs))\n",
    "            elif gate_type == 'xor2':\n",
    "                net_states[node] = int(inputs.count(1) % 2 == 1)\n",
    "            elif gate_type == 'xnor2':\n",
    "                net_states[node] = int(inputs.count(1) % 2 == 0)\n",
    "            elif gate_type == 'buf':\n",
    "                net_states[node] = int(inputs[0])\n",
    "            elif gate_type == 'inv':\n",
    "                net_states[node] = not int(inputs[0])\n",
    "    return net_states\n",
    "\n",
    "input_file=input(\"Enter the inputs file:\")\n",
    "with open(input_file) as i:\n",
    "    lines=i.readlines()\n",
    "    m=len(lines)-1\n",
    "    order=lines[0].split()\n",
    "    \n",
    "for node in sorted(g.nodes()):\n",
    "    print(f'{node}', end=\"  \")\n",
    "print(\"\\n\")    \n",
    "for j in range (1,m+1):\n",
    "    print(f\"#{j}\")\n",
    "    input_vectors = [list(map(int, lines[j].split()))]\n",
    "    net_states ={node: None for node in g.nodes()}\n",
    "    net_states=topo_evaluation(input_vectors,net_states,g)\n",
    "    for node in sorted(net_states.keys()):\n",
    "        state = net_states[node]\n",
    "        l=len(node)\n",
    "        print(f'{state:<{l}}', end=\"  \")\n",
    "    print(\"\\n\")"
   ]
  },
  {
   "cell_type": "markdown",
   "id": "8a78da1d-fa87-461e-9586-ff6deaeb59a2",
   "metadata": {},
   "source": [
    "### Explaination\n",
    "Once the nets are arranged in the topological order, the state output of each gate is found based on the state of the inputs and the functionality of the logic gate."
   ]
  },
  {
   "cell_type": "code",
   "execution_count": 33,
   "id": "fdabbe6c-ea76-4baa-9597-90f08904d207",
   "metadata": {},
   "outputs": [
    {
     "name": "stdout",
     "output_type": "stream",
     "text": [
      "2.85 µs ± 91.7 ns per loop (mean ± std. dev. of 7 runs, 100,000 loops each)\n"
     ]
    }
   ],
   "source": [
    "%timeit topo_evaluation(input_vectors,net_states,g)"
   ]
  },
  {
   "cell_type": "markdown",
   "id": "f20be609-3c97-4b53-a9bc-bce94b337355",
   "metadata": {},
   "source": [
    "## Event Driven Evalution"
   ]
  },
  {
   "cell_type": "code",
   "execution_count": 34,
   "id": "e627b3d3-1de3-47f0-9a92-a30494f94901",
   "metadata": {},
   "outputs": [
    {
     "name": "stdin",
     "output_type": "stream",
     "text": [
      "Enter the inputs file: c17.inputs\n"
     ]
    },
    {
     "name": "stdout",
     "output_type": "stream",
     "text": [
      "N1  N2  N22  N23  N3  N6  N7  n_0  n_1  n_2  n_3  \n",
      "\n",
      "#1\n",
      "0   1   1    1    0   0   0   1    1    1    0    \n",
      "\n",
      "#2\n",
      "0   0   0    0    1   0   0   1    1    1    1    \n",
      "\n",
      "#3\n",
      "1   0   0    0    0   0   0   1    1    1    1    \n",
      "\n",
      "#4\n",
      "0   0   0    0    1   1   1   1    0    1    1    \n",
      "\n",
      "#5\n",
      "1   1   1    0    1   1   1   0    0    1    1    \n",
      "\n",
      "#6\n",
      "1   1   1    1    1   0   0   0    1    1    0    \n",
      "\n",
      "#7\n",
      "1   1   1    1    1   1   0   0    0    1    1    \n",
      "\n",
      "#8\n",
      "1   1   1    1    0   0   0   1    1    1    0    \n",
      "\n",
      "#9\n",
      "0   1   1    1    1   0   1   1    1    0    0    \n",
      "\n",
      "#10\n",
      "0   0   0    0    1   1   0   1    0    1    1    \n",
      "\n"
     ]
    }
   ],
   "source": [
    "def event_driven(queue,net_states,g):\n",
    "    i=0\n",
    "    while len(queue)!= 0:\n",
    "        if net_states[queue[0]] is not None:\n",
    "            queue.pop(0)\n",
    "            continue\n",
    "        input_nodes = list(g.predecessors(queue[0]))\n",
    "        inputs=[net_states[n] for n in input_nodes]\n",
    "        check=0\n",
    "        i+=1\n",
    "        for item in inputs:\n",
    "            if item is None:\n",
    "                node=queue.pop(0)\n",
    "                queue.append(node)\n",
    "                check=1\n",
    "                break\n",
    "        if check ==1:\n",
    "            continue\n",
    "        else:\n",
    "            gate_type = g.nodes[queue[0]]['gateType']\n",
    "            if gate_type == 'and2':\n",
    "                net_states[queue[0]] = int(all(inputs))\n",
    "            elif gate_type == 'nand2':\n",
    "                net_states[queue[0]] = int(not all(inputs))\n",
    "            elif gate_type == 'or2':\n",
    "                net_states[queue[0]] = int(any(inputs))\n",
    "            elif gate_type == 'nor2':\n",
    "                net_states[queue[0]] = int(not any(inputs))\n",
    "            elif gate_type == 'xor2':\n",
    "                net_states[queue[0]] = int(inputs.count(1) % 2 == 1)\n",
    "            elif gate_type == 'xnor2':\n",
    "                net_states[queue[0]] = int(inputs.count(1) % 2 == 0)\n",
    "            elif gate_type == 'buf':\n",
    "                net_states[queue[0]] = int(inputs[0])\n",
    "            elif gate_type == 'inv':\n",
    "                net_states[queue[0]] = not int(inputs[0])\n",
    "            queue.pop(0)    \n",
    "    return queue,net_states\n",
    "\n",
    "queue=[]\n",
    "input_file=input(\"Enter the inputs file:\")\n",
    "with open(input_file) as i:\n",
    "    lines=i.readlines()\n",
    "    m=len(lines)-1\n",
    "    order=lines[0].split()\n",
    "    n=len(order)\n",
    "    input_vectors=list(map(int, lines[1].split()))\n",
    "\n",
    "for node in g.nodes():\n",
    "    queue.append(node)\n",
    "net_states ={node: None for node in g.nodes()}\n",
    "i=0\n",
    "j=0\n",
    "while i < n:\n",
    "    if queue[j]== order[i]:\n",
    "        net_states[queue[j]] = input_vectors[i]\n",
    "        i+=1\n",
    "        queue.remove(queue[j])\n",
    "        j=0\n",
    "    else:\n",
    "        j+=1\n",
    "for node in sorted(g.nodes()):\n",
    "    print(f'{node}', end=\"  \")\n",
    "print(\"\\n\")  \n",
    "print(\"#1\")\n",
    "queue,net_states=event_driven(queue,net_states,g)\n",
    "for node in sorted(net_states.keys()):\n",
    "    state = net_states[node]\n",
    "    l=len(node)\n",
    "    print(f'{state:<{l}}', end=\"  \")\n",
    "print(\"\\n\")\n",
    "\n",
    "for j in range (2,m+1):\n",
    "    print(f\"#{j}\")\n",
    "    i=0\n",
    "    input_vectors2 = list(map(int, lines[j].split()))\n",
    "    change=[]\n",
    "    for node in order:    \n",
    "        if input_vectors2[i] != input_vectors[i]:\n",
    "            queue.append(node)\n",
    "            for n in queue:\n",
    "                l = g.successors(n)\n",
    "                queue.extend(l)\n",
    "                queue = list(set(queue))\n",
    "            i+=1\n",
    "        else:\n",
    "            i+=1\n",
    "    queue = list(set(queue))\n",
    "    for node in queue:\n",
    "        net_states [node]=None\n",
    "    n=len(queue)\n",
    "    b=len(order)\n",
    "    for q in range(0,n) :\n",
    "        for k in range (0,b):\n",
    "            if queue[q]== order[k]:\n",
    "                net_states[queue[q]] = input_vectors2[k]\n",
    "    queue,net_states=event_driven(queue,net_states,g)\n",
    "    for node in sorted(net_states.keys()):\n",
    "        state = net_states[node]\n",
    "        l=len(node)\n",
    "        print(f'{state:<{l}}', end=\"  \")\n",
    "    print(\"\\n\")\n",
    "    input_vectors=input_vectors2"
   ]
  },
  {
   "cell_type": "markdown",
   "id": "ab489a1c-e665-4e1d-8061-e8c1d1ebcabd",
   "metadata": {},
   "source": [
    "### Explaination\n",
    "we start with a net_states that contains the current state of each net, initialized to ‘None’ at the start of the simulation. We form a queue that tracks the nets whose state has to be re-evaluated.First, the states of the primary inputs needs to be updated so we add these to the queue. Next, we dequeue nets from the queue and evaluate the new state. If the new state is different from the current state, the sucessors of the net are added to the queue for evaluation."
   ]
  },
  {
   "cell_type": "code",
   "execution_count": 35,
   "id": "036472c3-e1f5-44d1-b27d-ad0343ec7304",
   "metadata": {},
   "outputs": [
    {
     "name": "stdout",
     "output_type": "stream",
     "text": [
      "173 ns ± 0.662 ns per loop (mean ± std. dev. of 7 runs, 10,000,000 loops each)\n"
     ]
    }
   ],
   "source": [
    "%timeit event_driven(queue,net_states,g)"
   ]
  },
  {
   "cell_type": "markdown",
   "id": "ced8712b-9128-489e-bd01-91910c3ba89b",
   "metadata": {
    "tags": []
   },
   "source": [
    "## Which approach is faster/more efficient"
   ]
  },
  {
   "cell_type": "markdown",
   "id": "9bb360c8-4383-43b6-a550-ff7f996c3867",
   "metadata": {},
   "source": [
    "Generally, we can say that the **Event Driven Approach** is more **faster and efficient** than **multiple rounds of evaluation using Topological sort**.This is because the Event driven approach makes the changes only for the **nets** who got affected by the change in inputs compared to the inputs given before. But in the other method, it followed updating even though the nets who didn't got effected since there predecessors weren't got changed. This making it to take more time than the Event driven approach.\n",
    "\n",
    "But if the input of each and every net was changed in the cycles, then we can see the **Event driven approach** takes more time than the other one. this is because since almost every input got changed, thus creating a queue will consume a more time than usual. So, this rapid change in inputs (*may not be each and every but most of them*), our multiple rounds evaluation using Topological order will work finer than Event driven."
   ]
  }
 ],
 "metadata": {
  "authors": [
   {
    "name": "Dinesh Yajjala < EE21B042 >"
   }
  ],
  "kernelspec": {
   "display_name": "Python 3 (ipykernel)",
   "language": "python",
   "name": "python3"
  },
  "language_info": {
   "codemirror_mode": {
    "name": "ipython",
    "version": 3
   },
   "file_extension": ".py",
   "mimetype": "text/x-python",
   "name": "python",
   "nbconvert_exporter": "python",
   "pygments_lexer": "ipython3",
   "version": "3.9.2"
  }
 },
 "nbformat": 4,
 "nbformat_minor": 5
}
